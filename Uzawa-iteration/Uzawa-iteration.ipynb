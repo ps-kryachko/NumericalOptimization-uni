{
 "cells": [
  {
   "cell_type": "code",
   "execution_count": 59,
   "id": "9c6f12db",
   "metadata": {},
   "outputs": [],
   "source": [
    "import numpy as np\n",
    "from numpy.linalg import inv\n",
    "\n",
    "B = np.array([[3, 2 , 1],[2, 2, 0], [1, 0, 2]])\n",
    "C = np.array([[1, -2 , 1],[-1, 1, -1]])\n",
    "b = np.zeros(3)\n",
    "c = np.array([-3, 2])"
   ]
  },
  {
   "cell_type": "code",
   "execution_count": 54,
   "id": "6200e3c5",
   "metadata": {},
   "outputs": [],
   "source": [
    "def uzawa(B, b, C, c, tau = 0.05, tol = 0.001):\n",
    "    B_inv = inv(B)\n",
    "    n = np.shape(B)[0]\n",
    "    m = np.shape(C)[0]\n",
    "    x = np.ones(n)\n",
    "    lamb = np.zeros(m)\n",
    "    conv = False\n",
    "    while conv == False:\n",
    "        br = np.dot(B, x) + np.dot(C.T, lamb) - b\n",
    "        x_new = x - np.dot(B_inv, br)\n",
    "        res = np.linalg.norm(x_new - x)\n",
    "        conv = (res < tol)\n",
    "        x = x_new\n",
    "        lamb_new = lamb + tau*(np.dot(C, x_new) + c)\n",
    "        lamb = lamb_new\n",
    "        conv = (res < tol)\n",
    "        #if(not(conv)):\n",
    "            #print(\"iteration uzawa : \", x)\n",
    "        \n",
    "    return x"
   ]
  },
  {
   "cell_type": "code",
   "execution_count": 60,
   "id": "6ff731cd",
   "metadata": {},
   "outputs": [
    {
     "name": "stdout",
     "output_type": "stream",
     "text": [
      "[ 1.01683441 -1.13426323 -0.23485763]\n"
     ]
    }
   ],
   "source": [
    "x_star = uzawa(B, b, C, c)\n",
    "print(x_star)"
   ]
  }
 ],
 "metadata": {
  "kernelspec": {
   "display_name": "Python 3 (ipykernel)",
   "language": "python",
   "name": "python3"
  },
  "language_info": {
   "codemirror_mode": {
    "name": "ipython",
    "version": 3
   },
   "file_extension": ".py",
   "mimetype": "text/x-python",
   "name": "python",
   "nbconvert_exporter": "python",
   "pygments_lexer": "ipython3",
   "version": "3.9.7"
  }
 },
 "nbformat": 4,
 "nbformat_minor": 5
}
